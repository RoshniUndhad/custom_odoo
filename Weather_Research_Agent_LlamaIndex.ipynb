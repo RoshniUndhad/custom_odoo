{
  "nbformat": 4,
  "nbformat_minor": 0,
  "metadata": {
    "colab": {
      "provenance": [],
      "include_colab_link": true
    },
    "kernelspec": {
      "name": "python3",
      "display_name": "Python 3"
    },
    "language_info": {
      "name": "python"
    }
  },
  "cells": [
    {
      "cell_type": "markdown",
      "metadata": {
        "id": "view-in-github",
        "colab_type": "text"
      },
      "source": [
        "<a href=\"https://colab.research.google.com/github/RoshniUndhad/custom_odoo/blob/main/Weather_Research_Agent_LlamaIndex.ipynb\" target=\"_parent\"><img src=\"https://colab.research.google.com/assets/colab-badge.svg\" alt=\"Open In Colab\"/></a>"
      ]
    },
    {
      "cell_type": "markdown",
      "source": [
        "https://home.openweathermap.org/api_keys\n",
        "\n",
        "API key"
      ],
      "metadata": {
        "id": "gH7bcdA2vGKA"
      }
    },
    {
      "cell_type": "code",
      "source": [
        "!pip install requests llama-index llama-index-llms-groq -q"
      ],
      "metadata": {
        "colab": {
          "base_uri": "https://localhost:8080/"
        },
        "id": "d-uAbH7y6TWH",
        "outputId": "a4d15355-9dd8-42b8-998f-0cf0d95b8ccf"
      },
      "execution_count": null,
      "outputs": [
        {
          "output_type": "stream",
          "name": "stdout",
          "text": [
            "\u001b[2K   \u001b[90m━━━━━━━━━━━━━━━━━━━━━━━━━━━━━━━━━━━━━━━━\u001b[0m \u001b[32m1.6/1.6 MB\u001b[0m \u001b[31m27.7 MB/s\u001b[0m eta \u001b[36m0:00:00\u001b[0m\n",
            "\u001b[2K   \u001b[90m━━━━━━━━━━━━━━━━━━━━━━━━━━━━━━━━━━━━━━━━\u001b[0m \u001b[32m40.8/40.8 kB\u001b[0m \u001b[31m2.2 MB/s\u001b[0m eta \u001b[36m0:00:00\u001b[0m\n",
            "\u001b[2K   \u001b[90m━━━━━━━━━━━━━━━━━━━━━━━━━━━━━━━━━━━━━━━━\u001b[0m \u001b[32m253.1/253.1 kB\u001b[0m \u001b[31m15.0 MB/s\u001b[0m eta \u001b[36m0:00:00\u001b[0m\n",
            "\u001b[2K   \u001b[90m━━━━━━━━━━━━━━━━━━━━━━━━━━━━━━━━━━━━━━━━\u001b[0m \u001b[32m302.3/302.3 kB\u001b[0m \u001b[31m19.2 MB/s\u001b[0m eta \u001b[36m0:00:00\u001b[0m\n",
            "\u001b[2K   \u001b[90m━━━━━━━━━━━━━━━━━━━━━━━━━━━━━━━━━━━━━━━━\u001b[0m \u001b[32m1.2/1.2 MB\u001b[0m \u001b[31m45.0 MB/s\u001b[0m eta \u001b[36m0:00:00\u001b[0m\n",
            "\u001b[2K   \u001b[90m━━━━━━━━━━━━━━━━━━━━━━━━━━━━━━━━━━━━━━━━\u001b[0m \u001b[32m50.9/50.9 kB\u001b[0m \u001b[31m3.4 MB/s\u001b[0m eta \u001b[36m0:00:00\u001b[0m\n",
            "\u001b[2K   \u001b[90m━━━━━━━━━━━━━━━━━━━━━━━━━━━━━━━━━━━━━━━━\u001b[0m \u001b[32m129.2/129.2 kB\u001b[0m \u001b[31m9.1 MB/s\u001b[0m eta \u001b[36m0:00:00\u001b[0m\n",
            "\u001b[?25h"
          ]
        }
      ]
    },
    {
      "cell_type": "markdown",
      "source": [
        "Importing the dependencies"
      ],
      "metadata": {
        "id": "vDNcT76w6PLI"
      }
    },
    {
      "cell_type": "code",
      "execution_count": null,
      "metadata": {
        "id": "FxCf4Db6uH2V"
      },
      "outputs": [],
      "source": [
        "import os\n",
        "import requests\n",
        "from llama_index.core.agent import ReActAgent\n",
        "from llama_index.llms.groq import Groq\n",
        "from llama_index.core.tools import FunctionTool"
      ]
    },
    {
      "cell_type": "markdown",
      "source": [
        "**Loading the GroQ LLM**"
      ],
      "metadata": {
        "id": "kHefXwh27QIY"
      }
    },
    {
      "cell_type": "code",
      "source": [
        "os.environ[\"GROQ_API_KEY\"] = \"<your_groq_api_key>\""
      ],
      "metadata": {
        "id": "QXFXuZSV7IeM"
      },
      "execution_count": null,
      "outputs": []
    },
    {
      "cell_type": "code",
      "source": [
        "llm = Groq(\n",
        "    model=\"llama-3.3-70b-versatile\",\n",
        "    temperature=0\n",
        ")"
      ],
      "metadata": {
        "id": "ifKivlTt75pP"
      },
      "execution_count": null,
      "outputs": []
    },
    {
      "cell_type": "code",
      "source": [
        "BASE_URL = \"https://api.openweathermap.org/data/2.5/weather\"\n",
        "API_KEY = \"<your_owm_api_key>\""
      ],
      "metadata": {
        "id": "AfuBgXMD8LPt"
      },
      "execution_count": null,
      "outputs": []
    },
    {
      "cell_type": "code",
      "source": [
        "city = \"Chennai\"\n",
        "units = \"metric\""
      ],
      "metadata": {
        "id": "D_z7lJaM8wFm"
      },
      "execution_count": null,
      "outputs": []
    },
    {
      "cell_type": "code",
      "source": [
        "params = {\n",
        "    \"q\": city,\n",
        "    \"appid\": API_KEY,\n",
        "    \"units\": units # use \"imperial\" for Fahrenheit\n",
        "}"
      ],
      "metadata": {
        "id": "f1J3CFOG9NgX"
      },
      "execution_count": null,
      "outputs": []
    },
    {
      "cell_type": "code",
      "source": [
        "response = requests.get(BASE_URL, params=params)"
      ],
      "metadata": {
        "id": "nJlx3P1y9Uf0"
      },
      "execution_count": null,
      "outputs": []
    },
    {
      "cell_type": "code",
      "source": [
        "print(response.json())"
      ],
      "metadata": {
        "colab": {
          "base_uri": "https://localhost:8080/"
        },
        "id": "E3SlU3l49ZW6",
        "outputId": "75cd6862-7599-4461-9f0d-4030b8dcaae7"
      },
      "execution_count": null,
      "outputs": [
        {
          "output_type": "stream",
          "name": "stdout",
          "text": [
            "{'coord': {'lon': 80.2785, 'lat': 13.0878}, 'weather': [{'id': 802, 'main': 'Clouds', 'description': 'scattered clouds', 'icon': '03d'}], 'base': 'stations', 'main': {'temp': 33.97, 'feels_like': 40.97, 'temp_min': 32.78, 'temp_max': 35.61, 'pressure': 1010, 'humidity': 67, 'sea_level': 1010, 'grnd_level': 1009}, 'visibility': 6000, 'wind': {'speed': 4.12, 'deg': 140}, 'clouds': {'all': 40}, 'dt': 1744611554, 'sys': {'type': 2, 'id': 2093220, 'country': 'IN', 'sunrise': 1744590402, 'sunset': 1744635075}, 'timezone': 19800, 'id': 1264527, 'name': 'Chennai', 'cod': 200}\n"
          ]
        }
      ]
    },
    {
      "cell_type": "markdown",
      "source": [
        "**Weather Forecast Function**"
      ],
      "metadata": {
        "id": "b5LDf4Xv9-a_"
      }
    },
    {
      "cell_type": "code",
      "source": [
        "import requests\n",
        "\n",
        "BASE_URL = \"https://api.openweathermap.org/data/2.5/weather\"\n",
        "API_KEY = \"<your_owm_api_key>\"\n",
        "\n",
        "# custom weather forecast function\n",
        "def find_weather(city: str) -> dict:\n",
        "  \"\"\"This function returns the current weatehr forecast for the given city\"\"\"\n",
        "  units = \"metric\"\n",
        "  params = {\n",
        "      'q': city,\n",
        "      'appid': API_KEY,\n",
        "      'units': units\n",
        "  }\n",
        "  response = requests.get(BASE_URL, params=params)\n",
        "  result = response.json()\n",
        "\n",
        "  return result"
      ],
      "metadata": {
        "id": "_wDjSpnO9cBQ"
      },
      "execution_count": null,
      "outputs": []
    },
    {
      "cell_type": "code",
      "source": [
        "# convert the function to a function tool\n",
        "weather_tool = FunctionTool.from_defaults(fn=find_weather)"
      ],
      "metadata": {
        "id": "dUFu-Dqn_Nfi"
      },
      "execution_count": null,
      "outputs": []
    },
    {
      "cell_type": "code",
      "source": [
        "tools_list = [weather_tool]"
      ],
      "metadata": {
        "id": "37XgDDWN_nfU"
      },
      "execution_count": null,
      "outputs": []
    },
    {
      "cell_type": "code",
      "source": [
        "agent = ReActAgent.from_tools(\n",
        "    tools = tools_list,\n",
        "    llm = llm,\n",
        "    verbose = True\n",
        ")"
      ],
      "metadata": {
        "id": "oULWtQZ2_pv5"
      },
      "execution_count": null,
      "outputs": []
    },
    {
      "cell_type": "code",
      "source": [
        "response = agent.chat(\"What is the temperature like in Paris?\")"
      ],
      "metadata": {
        "colab": {
          "base_uri": "https://localhost:8080/"
        },
        "id": "NqCD64SgADkb",
        "outputId": "0536c64d-73ce-4251-b525-95794e5472a5"
      },
      "execution_count": null,
      "outputs": [
        {
          "output_type": "stream",
          "name": "stdout",
          "text": [
            "> Running step f11a8be8-17b8-4fde-8587-64798dcf1ca2. Step input: What is the temperature like in Paris?\n",
            "\u001b[1;3;38;5;200mThought: The current language of the user is: English. I need to use a tool to help me answer the question.\n",
            "Action: find_weather\n",
            "Action Input: {'city': 'Paris'}\n",
            "\u001b[0m\u001b[1;3;34mObservation: {'coord': {'lon': 2.3488, 'lat': 48.8534}, 'weather': [{'id': 804, 'main': 'Clouds', 'description': 'overcast clouds', 'icon': '04d'}], 'base': 'stations', 'main': {'temp': 8.29, 'feels_like': 7.15, 'temp_min': 6.32, 'temp_max': 9.52, 'pressure': 1009, 'humidity': 96, 'sea_level': 1009, 'grnd_level': 1000}, 'visibility': 10000, 'wind': {'speed': 2.06, 'deg': 60}, 'clouds': {'all': 100}, 'dt': 1744611974, 'sys': {'type': 2, 'id': 2012208, 'country': 'FR', 'sunrise': 1744606884, 'sunset': 1744655993}, 'timezone': 7200, 'id': 2988507, 'name': 'Paris', 'cod': 200}\n",
            "\u001b[0m> Running step 1498e960-cfef-4119-8ec2-6356f0d69f64. Step input: None\n",
            "\u001b[1;3;38;5;200mThought: I have the current weather forecast for Paris, which includes the temperature. I can now answer the user's question.\n",
            "Answer: The current temperature in Paris is 8.29 degrees Celsius, with a feels-like temperature of 7.15 degrees Celsius.\n",
            "\u001b[0m"
          ]
        }
      ]
    },
    {
      "cell_type": "code",
      "source": [
        "print(response.response)"
      ],
      "metadata": {
        "colab": {
          "base_uri": "https://localhost:8080/"
        },
        "id": "w4usm6_nAcMn",
        "outputId": "9b5bc095-fae2-4c4e-f530-581672ffd54d"
      },
      "execution_count": null,
      "outputs": [
        {
          "output_type": "stream",
          "name": "stdout",
          "text": [
            "The current temperature in Paris is 8.29 degrees Celsius, with a feels-like temperature of 7.15 degrees Celsius.\n"
          ]
        }
      ]
    },
    {
      "cell_type": "code",
      "source": [
        "response = agent.chat(\"What is the temperature like in Chennai?\")"
      ],
      "metadata": {
        "colab": {
          "base_uri": "https://localhost:8080/"
        },
        "id": "-omn4iECBBaG",
        "outputId": "30cbb8ba-0b6d-4119-d8a9-aa22fac72691"
      },
      "execution_count": null,
      "outputs": [
        {
          "output_type": "stream",
          "name": "stdout",
          "text": [
            "> Running step dc0a1ec4-5b13-4e3f-af93-e4b588ff5f99. Step input: What is the temperature like in Chennai?\n",
            "\u001b[1;3;38;5;200mThought: The current language of the user is: English. I need to use a tool to help me answer the question.\n",
            "Action: find_weather\n",
            "Action Input: {'city': 'Chennai'}\n",
            "\u001b[0m\u001b[1;3;34mObservation: {'coord': {'lon': 80.2785, 'lat': 13.0878}, 'weather': [{'id': 802, 'main': 'Clouds', 'description': 'scattered clouds', 'icon': '03d'}], 'base': 'stations', 'main': {'temp': 33.86, 'feels_like': 40.86, 'temp_min': 33.34, 'temp_max': 35.57, 'pressure': 1009, 'humidity': 67, 'sea_level': 1009, 'grnd_level': 1009}, 'visibility': 6000, 'wind': {'speed': 4.12, 'deg': 140}, 'clouds': {'all': 40}, 'dt': 1744611980, 'sys': {'type': 2, 'id': 2093220, 'country': 'IN', 'sunrise': 1744590402, 'sunset': 1744635075}, 'timezone': 19800, 'id': 1264527, 'name': 'Chennai', 'cod': 200}\n",
            "\u001b[0m> Running step cb6f6390-c83f-4138-b261-4f05e4643899. Step input: None\n",
            "\u001b[1;3;38;5;200mThought: I have the weather information for Chennai. I can now provide the temperature.\n",
            "Answer: The current temperature in Chennai is 33.86 degrees Celsius, with a feels-like temperature of 40.86 degrees Celsius.\n",
            "\u001b[0m"
          ]
        }
      ]
    },
    {
      "cell_type": "code",
      "source": [
        "print(response.response)"
      ],
      "metadata": {
        "colab": {
          "base_uri": "https://localhost:8080/"
        },
        "id": "INgXpX-IBEb3",
        "outputId": "88c054c1-575a-4f35-a412-539364d47f0a"
      },
      "execution_count": null,
      "outputs": [
        {
          "output_type": "stream",
          "name": "stdout",
          "text": [
            "The current temperature in Chennai is 33.86 degrees Celsius, with a feels-like temperature of 40.86 degrees Celsius.\n"
          ]
        }
      ]
    },
    {
      "cell_type": "code",
      "source": [],
      "metadata": {
        "id": "70ToF4KPBGdZ"
      },
      "execution_count": null,
      "outputs": []
    }
  ]
}